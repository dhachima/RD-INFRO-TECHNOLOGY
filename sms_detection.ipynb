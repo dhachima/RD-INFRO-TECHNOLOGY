{
  "nbformat": 4,
  "nbformat_minor": 0,
  "metadata": {
    "colab": {
      "provenance": []
    },
    "kernelspec": {
      "name": "python3",
      "display_name": "Python 3"
    },
    "language_info": {
      "name": "python"
    }
  },
  "cells": [
    {
      "cell_type": "code",
      "execution_count": null,
      "metadata": {
        "colab": {
          "base_uri": "https://localhost:8080/",
          "height": 690
        },
        "id": "S72U1EmPMD6a",
        "outputId": "c2687991-555f-4621-88c9-994937821d15"
      },
      "outputs": [
        {
          "output_type": "stream",
          "name": "stdout",
          "text": [
            "✅ Accuracy Score: 0.9668161434977578\n",
            "\n",
            "📊 Classification Report:\n",
            "               precision    recall  f1-score   support\n",
            "\n",
            "           0       0.96      1.00      0.98       965\n",
            "           1       1.00      0.75      0.86       150\n",
            "\n",
            "    accuracy                           0.97      1115\n",
            "   macro avg       0.98      0.88      0.92      1115\n",
            "weighted avg       0.97      0.97      0.96      1115\n",
            "\n"
          ]
        },
        {
          "output_type": "display_data",
          "data": {
            "text/plain": [
              "<Figure size 640x480 with 2 Axes>"
            ],
            "image/png": "[encoded data removed]"
          },
          "metadata": {}
        }
      ],
      "source": [
        "\n",
        "# 📌 Step 1: Import Libraries\n",
        "import pandas as pd\n",
        "from sklearn.model_selection import train_test_split\n",
        "from sklearn.feature_extraction.text import TfidfVectorizer\n",
        "from sklearn.naive_bayes import MultinomialNB\n",
        "from sklearn.metrics import accuracy_score, confusion_matrix, classification_report\n",
        "import seaborn as sns\n",
        "import matplotlib.pyplot as plt\n",
        "\n",
        "# 📌 Step 2: Load Dataset\n",
        "# Download 'spam.csv' from Kaggle and place in the same folder\n",
        "df = pd.read_csv(\"spam.csv\", encoding='latin-1')[['v1', 'v2']]\n",
        "df.columns = ['label', 'message']  # Rename columns\n",
        "\n",
        "# 📌 Step 3: Clean & Preprocess\n",
        "df['label'] = df['label'].map({'ham': 0, 'spam': 1})  # Convert to binary\n",
        "\n",
        "# 📌 Step 4: Split the data\n",
        "X_train, X_test, y_train, y_test = train_test_split(\n",
        "    df['message'], df['label'], test_size=0.2, random_state=42)\n",
        "\n",
        "# 📌 Step 5: Vectorization using TF-IDF\n",
        "vectorizer = TfidfVectorizer(stop_words='english')\n",
        "X_train_tfidf = vectorizer.fit_transform(X_train)\n",
        "X_test_tfidf = vectorizer.transform(X_test)\n",
        "\n",
        "# 📌 Step 6: Train Model\n",
        "model = MultinomialNB()\n",
        "model.fit(X_train_tfidf, y_train)\n",
        "\n",
        "# 📌 Step 7: Predict\n",
        "y_pred = model.predict(X_test_tfidf)\n",
        "\n",
        "# 📌 Step 8: Evaluation\n",
        "print(\"✅ Accuracy Score:\", accuracy_score(y_test, y_pred))\n",
        "print(\"\\n📊 Classification Report:\\n\", classification_report(y_test, y_pred))\n",
        "\n",
        "# 📌 Step 9: Confusion Matrix\n",
        "cm = confusion_matrix(y_test, y_pred)\n",
        "sns.heatmap(cm, annot=True, fmt=\"d\", cmap=\"Blues\", xticklabels=['Ham', 'Spam'], yticklabels=['Ham', 'Spam'])\n",
        "plt.xlabel(\"Predicted\")\n",
        "plt.ylabel(\"Actual\")\n",
        "plt.title(\"Confusion Matrix\")\n",
        "plt.show()\n"
      ]
    },
    {
      "cell_type": "markdown",
      "source": [],
      "metadata": {
        "id": "gRK73CHqdpMx"
      }
    },
    {
      "cell_type": "markdown",
      "source": [
        "🎯 Goal: Using text-based features, develop a machine learning model that automatically categorizes SMS messages as either spam or ham (not spam). Helping to filter unsolicited messages and lessen user exposure to advertisements or scams is the aim."
      ],
      "metadata": {
        "id": "gu0FAdiUcns5"
      }
    },
    {
      "cell_type": "markdown",
      "source": [],
      "metadata": {
        "id": "vWTlLp8ZXOzM"
      }
    },
    {
      "cell_type": "markdown",
      "source": [
        "📝 Abstract: Spam messages have grown to be a significant annoyance and security risk due to the enormous growth in mobile communication. The goal of this project is to use machine learning and natural language processing (NLP) to create a spam detection system. The system employs the Multinomial Naive Bayes classifier to determine whether a message is spam or authentic (ham) after converting SMS text into numeric features using TF-IDF vectorization. The model's efficacy in real-world spam filtering was demonstrated by its high accuracy of about 97%."
      ],
      "metadata": {
        "id": "9uO4sSxCdsPZ"
      }
    },
    {
      "cell_type": "markdown",
      "source": [
        "1. TF-IDF (Term Frequency-Inverse Document Frequency): This algorithm transforms unprocessed SMS text into numerical features.\n",
        "\n",
        "emphasizes key terms by giving them a higher weight if they appear frequently in a message but infrequently throughout the dataset.\n",
        "\n",
        "2. A probabilistic algorithm that works well for text classification is the Multinomial Naive Bayes Classifier.\n",
        "\n",
        "determines the likelihood that a given message belongs to a particular class (spam or ham) based on the assumption that words are independent.\n",
        "\n",
        "For this kind of work, it is quick, easy, and very accurate.\n",
        "\n",
        "📌 Project Procedures: Load the dataset (spam.csv)\n",
        "\n",
        "Data preprocessing and label encoding (ham = 0, spam = 1)\n",
        "\n",
        "Divide the dataset (80/20 split) into training and test sets.\n",
        "\n",
        "Use TF-IDF to translate messages into numerical features.\n",
        "\n",
        "Use the training set to train the Naive Bayes classifier.\n",
        "\n",
        "Examine the model"
      ],
      "metadata": {
        "id": "ghl4w_A0dvxS"
      }
    },
    {
      "cell_type": "markdown",
      "source": [],
      "metadata": {
        "id": "903G9GFoctcl"
      }
    },
    {
      "cell_type": "markdown",
      "source": [
        "🔷 What is the purpose of this project?\n",
        "The goal of this project is to teach a computer to distinguish between spam and a regular SMS (ham) based solely on the message's text.\n",
        "\n",
        "By using machine learning, the computer examines thousands of examples, recognizes patterns in the text, and then applies those patterns to new messages.\n",
        "\n",
        "How Does It Operate?\n",
        "Let's divide it into easy steps:\n",
        "\n",
        "✅ Step 1: Gather Information\n",
        "We make use of the spam.csv dataset, which includes:\n",
        "\n",
        "5,574 text messages\n",
        "\n",
        "Every message has one of the following labels:\n",
        "\n",
        "Ham → regular/authentic message\n",
        "\n",
        "Spam → unsolicited message\n",
        "\n",
        "For instance:\n",
        "\n",
        "vbnet Copy Edit Label: spam\n",
        "Message: SUCCESS! A $1000 prize has been awarded to you. ✅ Step 2: Prepare the Information\n",
        "We rename columns and clean up the data."
      ],
      "metadata": {
        "id": "bfy4oCLAecd5"
      }
    },
    {
      "cell_type": "markdown",
      "source": [
        "✅ Step 3: Divide the Information\n",
        "The messages were divided into:\n",
        "\n",
        "80% of the training data is used for learning.\n",
        "\n",
        "Test data (20%) → to verify that it was properly learned\n",
        "\n",
        "✅ Convert Text to Numbers in Step Four\n",
        "We employ a technique known as TF-IDF (Term Frequency–Inverse Document Frequency) because machines are unable to directly comprehend words. It\n",
        "\n",
        "determines the frequency with which a word occurs in a message.\n",
        "\n",
        "gives uncommon but significant words more weight.\n",
        "For instance:\n",
        "\n",
        "\"Win,\" \"claim,\" and \"free\" are more frequently used in spam.\n",
        "\n",
        "✅ Step 5: Model Training\n",
        "Multinomial Naive Bayes is the machine learning algorithm that we employ. It works well for text and\n",
        "\n",
        "uses training data to learn word patterns.\n",
        "\n",
        "determines the relationship between spam and terms like \"free,\" \"win,\" and \"congratulations.\"\n",
        "\n",
        "Step 6: Evaluate the Model\n",
        "We send it fresh messages that it hasn't seen before."
      ],
      "metadata": {
        "id": "wW6tZO-SgC3_"
      }
    },
    {
      "cell_type": "markdown",
      "source": [
        "Step 7: Evaluate Performance\n",
        "We examine:\n",
        "\n",
        "Accuracy → The number of correct messages\n",
        "\n",
        "Classification Report → F1 score, recall, and precision\n",
        "\n",
        "Confusion Matrix → The proportion of spam/ham messages that were correctly or incorrectly classified\n",
        "\n",
        "For instance:\n",
        "\n",
        "97% accuracy in yaml copy and edit\n",
        "94% accuracy in spam\n",
        "This indicates that the model has a high degree of accuracy in identifying spam.\n",
        "\n",
        "🌟 What Use Does This Serve?\n",
        "aids in automatically blocking spam on phones and email apps.\n",
        "\n",
        "protects users from fraudulent messages\n",
        "\n",
        "Adaptable to chatbots, emails, and comment filtering"
      ],
      "metadata": {
        "id": "Sxes1ltngHtG"
      }
    },
    {
      "cell_type": "markdown",
      "source": [],
      "metadata": {
        "id": "OvP8OyH8gZle"
      }
    }
  ]
}